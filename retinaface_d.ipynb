{
 "cells": [
  {
   "cell_type": "code",
   "execution_count": null,
   "metadata": {},
   "outputs": [],
   "source": []
  },
  {
   "cell_type": "code",
   "execution_count": 1,
   "metadata": {},
   "outputs": [],
   "source": [
    "import os"
   ]
  },
  {
   "cell_type": "code",
   "execution_count": 2,
   "metadata": {},
   "outputs": [],
   "source": [
    "import PIL.Image\n",
    "import matplotlib.pyplot as plt\n",
    "def Display_Image(path:str):\n",
    "    image = PIL.Image.open(path)\n",
    "    plt.imshow(image)\n",
    "    # image.show()\n",
    "    plt.show()"
   ]
  },
  {
   "cell_type": "code",
   "execution_count": 3,
   "metadata": {},
   "outputs": [],
   "source": [
    "import matplotlib.pyplot as plt\n",
    "def show_faces(faces):\n",
    "    for face in faces:\n",
    "        plt.imshow(face)\n",
    "        plt.show()"
   ]
  },
  {
   "cell_type": "code",
   "execution_count": 4,
   "metadata": {},
   "outputs": [],
   "source": [
    "import matplotlib.pyplot as plt\n",
    "from retinaface import RetinaFace\n",
    "def detect_face(pathtoimg):\n",
    "  # path = \"dataset/test/male/\"\n",
    "  # dir_list = os.listdir(path)\n",
    "  # pathtoimg = path+ dir_list[10]\n",
    "  # Display_Image(pathtoimg)\n",
    "  faces = RetinaFace.extract_faces(img_path = pathtoimg, align = True)\n",
    "  # print(len(faces))\n",
    "  # for face in faces:\n",
    "  #   plt.imshow(face)\n",
    "  #   plt.show()\n",
    "  return faces"
   ]
  },
  {
   "cell_type": "code",
   "execution_count": 6,
   "metadata": {},
   "outputs": [
    {
     "name": "stdout",
     "output_type": "stream",
     "text": [
      "count: 0\n"
     ]
    }
   ],
   "source": [
    "path = \"dataset_all/train/male/\"\n",
    "dir_list = os.listdir(path)\n",
    "count = 0\n",
    "\n",
    "for imgname in dir_list[1000:1005]:\n",
    "    pathtoimg = path+ imgname\n",
    "    # Display_Image(pathtoimg)\n",
    "    faces = detect_face(pathtoimg)\n",
    "    if len(faces)!=0:\n",
    "        show_faces(faces)\n",
    "        count+=1\n",
    "print(f'count: {count}')\n",
    "    "
   ]
  },
  {
   "cell_type": "markdown",
   "metadata": {},
   "source": [
    "### Sampling our Data to Run Hyperparameter Optimizations"
   ]
  },
  {
   "cell_type": "code",
   "execution_count": 7,
   "metadata": {},
   "outputs": [],
   "source": [
    "import os\n",
    "#get the list of all the data\n",
    "def get_files_in_directory(directory_path):\n",
    "  files = []\n",
    "  for file in os.listdir(directory_path):\n",
    "    if os.path.isfile(os.path.join(directory_path, file)):\n",
    "      files.append(file)\n",
    "\n",
    "  return files"
   ]
  },
  {
   "cell_type": "code",
   "execution_count": 8,
   "metadata": {},
   "outputs": [],
   "source": [
    "train_male = get_files_in_directory(\"dataset_all/train/male/\")\n",
    "train_female = get_files_in_directory(\"dataset_all/train/female/\")\n",
    "\n",
    "test_male = get_files_in_directory(\"dataset_all/test/male/\")\n",
    "test_female = get_files_in_directory(\"dataset_all/test/female/\")"
   ]
  },
  {
   "cell_type": "code",
   "execution_count": 9,
   "metadata": {},
   "outputs": [
    {
     "name": "stdout",
     "output_type": "stream",
     "text": [
      "train/male : 23766 images\n",
      "train/female : 23243 images\n",
      "test/male : 5808 images\n",
      "test/female : 5841 images\n",
      "\n",
      "Total male: 29574 images\n",
      "Total female: 29084 images\n"
     ]
    }
   ],
   "source": [
    "print(f'train/male : {len(train_male)} images')\n",
    "print(f'train/female : {len(train_female)} images')\n",
    "print(f'test/male : {len(test_male)} images')\n",
    "print(f'test/female : {len(test_female)} images\\n')\n",
    "\n",
    "print(f'Total male: {len(train_male)+len(test_male)} images')\n",
    "print(f'Total female: {len(train_female)+len(test_female)} images')"
   ]
  },
  {
   "cell_type": "code",
   "execution_count": 12,
   "metadata": {},
   "outputs": [
    {
     "data": {
      "text/plain": [
       "3063"
      ]
     },
     "execution_count": 12,
     "metadata": {},
     "output_type": "execute_result"
    }
   ],
   "source": [
    "23766-20703"
   ]
  },
  {
   "cell_type": "markdown",
   "metadata": {},
   "source": [
    "### New Combination"
   ]
  },
  {
   "cell_type": "markdown",
   "metadata": {},
   "source": [
    "|  | male | female |\n",
    "|---|---|---|\n",
    "| train | 20703 | 20360 |\n",
    "| val | 5914 | 5816 |\n",
    "| test | 2957 | 2908 |"
   ]
  },
  {
   "cell_type": "code",
   "execution_count": 17,
   "metadata": {},
   "outputs": [],
   "source": [
    "#transfer 3063 from train to val (male)\n",
    "import os\n",
    "import matplotlib.pyplot as plt\n",
    "source = \"dataset_all/train/male/\"\n",
    "destination = \"dataset_all/val/male/\"\n",
    "num_of_images = 3063\n",
    "images_list =train_male\n",
    "for img in images_list[num_of_images:num_of_images]:\n",
    "    if os.path.exists(img): \n",
    "        image = PIL.Image.open(source+img)\n",
    "        plt.imshow(image)\n",
    "        plt.savefig(destination+image)\n",
    "        if os.path.exists(img):\n",
    "            os.remove(\"demofile.txt\")\n",
    "        else:\n",
    "            print(\"The file does not exist.\")\n",
    "            break\n",
    "    else:\n",
    "        print(\"Image doesn't exist in the specified directory.\")"
   ]
  },
  {
   "cell_type": "code",
   "execution_count": 18,
   "metadata": {},
   "outputs": [],
   "source": [
    "tm = get_files_in_directory(\"dataset_all/train/male/\")"
   ]
  },
  {
   "cell_type": "code",
   "execution_count": null,
   "metadata": {},
   "outputs": [],
   "source": []
  },
  {
   "cell_type": "code",
   "execution_count": null,
   "metadata": {},
   "outputs": [],
   "source": []
  },
  {
   "cell_type": "code",
   "execution_count": null,
   "metadata": {},
   "outputs": [],
   "source": []
  }
 ],
 "metadata": {
  "kernelspec": {
   "display_name": "env1",
   "language": "python",
   "name": "python3"
  },
  "language_info": {
   "codemirror_mode": {
    "name": "ipython",
    "version": 3
   },
   "file_extension": ".py",
   "mimetype": "text/x-python",
   "name": "python",
   "nbconvert_exporter": "python",
   "pygments_lexer": "ipython3",
   "version": "3.10.12"
  },
  "orig_nbformat": 4
 },
 "nbformat": 4,
 "nbformat_minor": 2
}
